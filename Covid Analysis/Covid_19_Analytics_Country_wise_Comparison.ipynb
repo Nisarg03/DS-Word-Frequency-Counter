{
  "nbformat": 4,
  "nbformat_minor": 0,
  "metadata": {
    "colab": {
      "name": "Covid-19 Analytics Country-wise Comparison",
      "provenance": [],
      "authorship_tag": "ABX9TyNjpgHsiDE0gKUB+8u4lFC7",
      "include_colab_link": true
    },
    "kernelspec": {
      "name": "python3",
      "display_name": "Python 3"
    },
    "language_info": {
      "name": "python"
    }
  },
  "cells": [
    {
      "cell_type": "markdown",
      "metadata": {
        "id": "view-in-github",
        "colab_type": "text"
      },
      "source": [
        "<a href=\"https://colab.research.google.com/github/Nisarg03/Data-Science-Projects/blob/main/Covid_19_Analytics_Country_wise_Comparison.ipynb\" target=\"_parent\"><img src=\"https://colab.research.google.com/assets/colab-badge.svg\" alt=\"Open In Colab\"/></a>"
      ]
    },
    {
      "cell_type": "code",
      "execution_count": 1,
      "metadata": {
        "id": "ks51qr6gB3Cj"
      },
      "outputs": [],
      "source": [
        "import numpy as np\n",
        "import pandas as pd\n",
        "import matplotlib.pyplot as plt\n",
        "plt.rcParams[\"figure.figsize\"] = (10,3) # make figures larger"
      ]
    },
    {
      "cell_type": "code",
      "source": [
        "base_url = \"https://raw.githubusercontent.com/CSSEGISandData/COVID-19/master/csse_covid_19_data/csse_covid_19_time_series/\" # loading from Internet\n",
        "# base_url = \"../../data/COVID/\" # loading from disk\n",
        "infected_dataset_url = base_url + \"time_series_covid19_confirmed_global.csv\"\n",
        "recovered_dataset_url = base_url + \"time_series_covid19_recovered_global.csv\"\n",
        "deaths_dataset_url = base_url + \"time_series_covid19_deaths_global.csv\"\n",
        "countries_dataset_url = base_url + \"../UID_ISO_FIPS_LookUp_Table.csv\""
      ],
      "metadata": {
        "id": "q3-0TkZ7B6Kl"
      },
      "execution_count": 2,
      "outputs": []
    },
    {
      "cell_type": "code",
      "source": [
        "infected = pd.read_csv(infected_dataset_url)\n",
        "recovered = pd.read_csv(recovered_dataset_url)\n",
        "deaths = pd.read_csv(deaths_dataset_url)\n",
        "infected.head()"
      ],
      "metadata": {
        "colab": {
          "base_uri": "https://localhost:8080/",
          "height": 299
        },
        "id": "p36AWA4QCjRZ",
        "outputId": "5ea95321-64f1-445d-af9b-49caa1f9f73c"
      },
      "execution_count": 4,
      "outputs": [
        {
          "output_type": "execute_result",
          "data": {
            "text/plain": [
              "  Province/State Country/Region       Lat       Long  1/22/20  1/23/20  \\\n",
              "0            NaN    Afghanistan  33.93911  67.709953        0        0   \n",
              "1            NaN        Albania  41.15330  20.168300        0        0   \n",
              "2            NaN        Algeria  28.03390   1.659600        0        0   \n",
              "3            NaN        Andorra  42.50630   1.521800        0        0   \n",
              "4            NaN         Angola -11.20270  17.873900        0        0   \n",
              "\n",
              "   1/24/20  1/25/20  1/26/20  1/27/20  ...  5/6/22  5/7/22  5/8/22  5/9/22  \\\n",
              "0        0        0        0        0  ...  178919  178922  178981  179010   \n",
              "1        0        0        0        0  ...  275310  275341  275366  275372   \n",
              "2        0        0        0        0  ...  265791  265794  265798  265800   \n",
              "3        0        0        0        0  ...   41717   41717   41717   41717   \n",
              "4        0        0        0        0  ...   99287   99287   99287   99287   \n",
              "\n",
              "   5/10/22  5/11/22  5/12/22  5/13/22  5/14/22  5/15/22  \n",
              "0   179017   179131   179169   179203   179242   179267  \n",
              "1   275416   275440   275485   275534   275574   275615  \n",
              "2   265804   265806   265808   265814   265816   265818  \n",
              "3    41717    41717    42156    42156    42156    42156  \n",
              "4    99287    99287    99287    99287    99287    99287  \n",
              "\n",
              "[5 rows x 849 columns]"
            ],
            "text/html": [
              "\n",
              "  <div id=\"df-01c711f6-fbaa-480b-81dd-746c4e65657b\">\n",
              "    <div class=\"colab-df-container\">\n",
              "      <div>\n",
              "<style scoped>\n",
              "    .dataframe tbody tr th:only-of-type {\n",
              "        vertical-align: middle;\n",
              "    }\n",
              "\n",
              "    .dataframe tbody tr th {\n",
              "        vertical-align: top;\n",
              "    }\n",
              "\n",
              "    .dataframe thead th {\n",
              "        text-align: right;\n",
              "    }\n",
              "</style>\n",
              "<table border=\"1\" class=\"dataframe\">\n",
              "  <thead>\n",
              "    <tr style=\"text-align: right;\">\n",
              "      <th></th>\n",
              "      <th>Province/State</th>\n",
              "      <th>Country/Region</th>\n",
              "      <th>Lat</th>\n",
              "      <th>Long</th>\n",
              "      <th>1/22/20</th>\n",
              "      <th>1/23/20</th>\n",
              "      <th>1/24/20</th>\n",
              "      <th>1/25/20</th>\n",
              "      <th>1/26/20</th>\n",
              "      <th>1/27/20</th>\n",
              "      <th>...</th>\n",
              "      <th>5/6/22</th>\n",
              "      <th>5/7/22</th>\n",
              "      <th>5/8/22</th>\n",
              "      <th>5/9/22</th>\n",
              "      <th>5/10/22</th>\n",
              "      <th>5/11/22</th>\n",
              "      <th>5/12/22</th>\n",
              "      <th>5/13/22</th>\n",
              "      <th>5/14/22</th>\n",
              "      <th>5/15/22</th>\n",
              "    </tr>\n",
              "  </thead>\n",
              "  <tbody>\n",
              "    <tr>\n",
              "      <th>0</th>\n",
              "      <td>NaN</td>\n",
              "      <td>Afghanistan</td>\n",
              "      <td>33.93911</td>\n",
              "      <td>67.709953</td>\n",
              "      <td>0</td>\n",
              "      <td>0</td>\n",
              "      <td>0</td>\n",
              "      <td>0</td>\n",
              "      <td>0</td>\n",
              "      <td>0</td>\n",
              "      <td>...</td>\n",
              "      <td>178919</td>\n",
              "      <td>178922</td>\n",
              "      <td>178981</td>\n",
              "      <td>179010</td>\n",
              "      <td>179017</td>\n",
              "      <td>179131</td>\n",
              "      <td>179169</td>\n",
              "      <td>179203</td>\n",
              "      <td>179242</td>\n",
              "      <td>179267</td>\n",
              "    </tr>\n",
              "    <tr>\n",
              "      <th>1</th>\n",
              "      <td>NaN</td>\n",
              "      <td>Albania</td>\n",
              "      <td>41.15330</td>\n",
              "      <td>20.168300</td>\n",
              "      <td>0</td>\n",
              "      <td>0</td>\n",
              "      <td>0</td>\n",
              "      <td>0</td>\n",
              "      <td>0</td>\n",
              "      <td>0</td>\n",
              "      <td>...</td>\n",
              "      <td>275310</td>\n",
              "      <td>275341</td>\n",
              "      <td>275366</td>\n",
              "      <td>275372</td>\n",
              "      <td>275416</td>\n",
              "      <td>275440</td>\n",
              "      <td>275485</td>\n",
              "      <td>275534</td>\n",
              "      <td>275574</td>\n",
              "      <td>275615</td>\n",
              "    </tr>\n",
              "    <tr>\n",
              "      <th>2</th>\n",
              "      <td>NaN</td>\n",
              "      <td>Algeria</td>\n",
              "      <td>28.03390</td>\n",
              "      <td>1.659600</td>\n",
              "      <td>0</td>\n",
              "      <td>0</td>\n",
              "      <td>0</td>\n",
              "      <td>0</td>\n",
              "      <td>0</td>\n",
              "      <td>0</td>\n",
              "      <td>...</td>\n",
              "      <td>265791</td>\n",
              "      <td>265794</td>\n",
              "      <td>265798</td>\n",
              "      <td>265800</td>\n",
              "      <td>265804</td>\n",
              "      <td>265806</td>\n",
              "      <td>265808</td>\n",
              "      <td>265814</td>\n",
              "      <td>265816</td>\n",
              "      <td>265818</td>\n",
              "    </tr>\n",
              "    <tr>\n",
              "      <th>3</th>\n",
              "      <td>NaN</td>\n",
              "      <td>Andorra</td>\n",
              "      <td>42.50630</td>\n",
              "      <td>1.521800</td>\n",
              "      <td>0</td>\n",
              "      <td>0</td>\n",
              "      <td>0</td>\n",
              "      <td>0</td>\n",
              "      <td>0</td>\n",
              "      <td>0</td>\n",
              "      <td>...</td>\n",
              "      <td>41717</td>\n",
              "      <td>41717</td>\n",
              "      <td>41717</td>\n",
              "      <td>41717</td>\n",
              "      <td>41717</td>\n",
              "      <td>41717</td>\n",
              "      <td>42156</td>\n",
              "      <td>42156</td>\n",
              "      <td>42156</td>\n",
              "      <td>42156</td>\n",
              "    </tr>\n",
              "    <tr>\n",
              "      <th>4</th>\n",
              "      <td>NaN</td>\n",
              "      <td>Angola</td>\n",
              "      <td>-11.20270</td>\n",
              "      <td>17.873900</td>\n",
              "      <td>0</td>\n",
              "      <td>0</td>\n",
              "      <td>0</td>\n",
              "      <td>0</td>\n",
              "      <td>0</td>\n",
              "      <td>0</td>\n",
              "      <td>...</td>\n",
              "      <td>99287</td>\n",
              "      <td>99287</td>\n",
              "      <td>99287</td>\n",
              "      <td>99287</td>\n",
              "      <td>99287</td>\n",
              "      <td>99287</td>\n",
              "      <td>99287</td>\n",
              "      <td>99287</td>\n",
              "      <td>99287</td>\n",
              "      <td>99287</td>\n",
              "    </tr>\n",
              "  </tbody>\n",
              "</table>\n",
              "<p>5 rows × 849 columns</p>\n",
              "</div>\n",
              "      <button class=\"colab-df-convert\" onclick=\"convertToInteractive('df-01c711f6-fbaa-480b-81dd-746c4e65657b')\"\n",
              "              title=\"Convert this dataframe to an interactive table.\"\n",
              "              style=\"display:none;\">\n",
              "        \n",
              "  <svg xmlns=\"http://www.w3.org/2000/svg\" height=\"24px\"viewBox=\"0 0 24 24\"\n",
              "       width=\"24px\">\n",
              "    <path d=\"M0 0h24v24H0V0z\" fill=\"none\"/>\n",
              "    <path d=\"M18.56 5.44l.94 2.06.94-2.06 2.06-.94-2.06-.94-.94-2.06-.94 2.06-2.06.94zm-11 1L8.5 8.5l.94-2.06 2.06-.94-2.06-.94L8.5 2.5l-.94 2.06-2.06.94zm10 10l.94 2.06.94-2.06 2.06-.94-2.06-.94-.94-2.06-.94 2.06-2.06.94z\"/><path d=\"M17.41 7.96l-1.37-1.37c-.4-.4-.92-.59-1.43-.59-.52 0-1.04.2-1.43.59L10.3 9.45l-7.72 7.72c-.78.78-.78 2.05 0 2.83L4 21.41c.39.39.9.59 1.41.59.51 0 1.02-.2 1.41-.59l7.78-7.78 2.81-2.81c.8-.78.8-2.07 0-2.86zM5.41 20L4 18.59l7.72-7.72 1.47 1.35L5.41 20z\"/>\n",
              "  </svg>\n",
              "      </button>\n",
              "      \n",
              "  <style>\n",
              "    .colab-df-container {\n",
              "      display:flex;\n",
              "      flex-wrap:wrap;\n",
              "      gap: 12px;\n",
              "    }\n",
              "\n",
              "    .colab-df-convert {\n",
              "      background-color: #E8F0FE;\n",
              "      border: none;\n",
              "      border-radius: 50%;\n",
              "      cursor: pointer;\n",
              "      display: none;\n",
              "      fill: #1967D2;\n",
              "      height: 32px;\n",
              "      padding: 0 0 0 0;\n",
              "      width: 32px;\n",
              "    }\n",
              "\n",
              "    .colab-df-convert:hover {\n",
              "      background-color: #E2EBFA;\n",
              "      box-shadow: 0px 1px 2px rgba(60, 64, 67, 0.3), 0px 1px 3px 1px rgba(60, 64, 67, 0.15);\n",
              "      fill: #174EA6;\n",
              "    }\n",
              "\n",
              "    [theme=dark] .colab-df-convert {\n",
              "      background-color: #3B4455;\n",
              "      fill: #D2E3FC;\n",
              "    }\n",
              "\n",
              "    [theme=dark] .colab-df-convert:hover {\n",
              "      background-color: #434B5C;\n",
              "      box-shadow: 0px 1px 3px 1px rgba(0, 0, 0, 0.15);\n",
              "      filter: drop-shadow(0px 1px 2px rgba(0, 0, 0, 0.3));\n",
              "      fill: #FFFFFF;\n",
              "    }\n",
              "  </style>\n",
              "\n",
              "      <script>\n",
              "        const buttonEl =\n",
              "          document.querySelector('#df-01c711f6-fbaa-480b-81dd-746c4e65657b button.colab-df-convert');\n",
              "        buttonEl.style.display =\n",
              "          google.colab.kernel.accessAllowed ? 'block' : 'none';\n",
              "\n",
              "        async function convertToInteractive(key) {\n",
              "          const element = document.querySelector('#df-01c711f6-fbaa-480b-81dd-746c4e65657b');\n",
              "          const dataTable =\n",
              "            await google.colab.kernel.invokeFunction('convertToInteractive',\n",
              "                                                     [key], {});\n",
              "          if (!dataTable) return;\n",
              "\n",
              "          const docLinkHtml = 'Like what you see? Visit the ' +\n",
              "            '<a target=\"_blank\" href=https://colab.research.google.com/notebooks/data_table.ipynb>data table notebook</a>'\n",
              "            + ' to learn more about interactive tables.';\n",
              "          element.innerHTML = '';\n",
              "          dataTable['output_type'] = 'display_data';\n",
              "          await google.colab.output.renderOutput(dataTable, element);\n",
              "          const docLink = document.createElement('div');\n",
              "          docLink.innerHTML = docLinkHtml;\n",
              "          element.appendChild(docLink);\n",
              "        }\n",
              "      </script>\n",
              "    </div>\n",
              "  </div>\n",
              "  "
            ]
          },
          "metadata": {},
          "execution_count": 4
        }
      ]
    },
    {
      "cell_type": "code",
      "source": [
        "infected = infected.groupby('Country/Region').sum()\n",
        "recovered = recovered.groupby('Country/Region').sum()\n",
        "deaths = deaths.groupby('Country/Region').sum()\n",
        "\n",
        "infected.head()"
      ],
      "metadata": {
        "colab": {
          "base_uri": "https://localhost:8080/",
          "height": 331
        },
        "id": "wH_n8rzgCoYs",
        "outputId": "118f21d6-7ba8-420f-dedb-e31da0c55b07"
      },
      "execution_count": 5,
      "outputs": [
        {
          "output_type": "execute_result",
          "data": {
            "text/plain": [
              "                     Lat       Long  1/22/20  1/23/20  1/24/20  1/25/20  \\\n",
              "Country/Region                                                            \n",
              "Afghanistan     33.93911  67.709953        0        0        0        0   \n",
              "Albania         41.15330  20.168300        0        0        0        0   \n",
              "Algeria         28.03390   1.659600        0        0        0        0   \n",
              "Andorra         42.50630   1.521800        0        0        0        0   \n",
              "Angola         -11.20270  17.873900        0        0        0        0   \n",
              "\n",
              "                1/26/20  1/27/20  1/28/20  1/29/20  ...  5/6/22  5/7/22  \\\n",
              "Country/Region                                      ...                   \n",
              "Afghanistan           0        0        0        0  ...  178919  178922   \n",
              "Albania               0        0        0        0  ...  275310  275341   \n",
              "Algeria               0        0        0        0  ...  265791  265794   \n",
              "Andorra               0        0        0        0  ...   41717   41717   \n",
              "Angola                0        0        0        0  ...   99287   99287   \n",
              "\n",
              "                5/8/22  5/9/22  5/10/22  5/11/22  5/12/22  5/13/22  5/14/22  \\\n",
              "Country/Region                                                                \n",
              "Afghanistan     178981  179010   179017   179131   179169   179203   179242   \n",
              "Albania         275366  275372   275416   275440   275485   275534   275574   \n",
              "Algeria         265798  265800   265804   265806   265808   265814   265816   \n",
              "Andorra          41717   41717    41717    41717    42156    42156    42156   \n",
              "Angola           99287   99287    99287    99287    99287    99287    99287   \n",
              "\n",
              "                5/15/22  \n",
              "Country/Region           \n",
              "Afghanistan      179267  \n",
              "Albania          275615  \n",
              "Algeria          265818  \n",
              "Andorra           42156  \n",
              "Angola            99287  \n",
              "\n",
              "[5 rows x 847 columns]"
            ],
            "text/html": [
              "\n",
              "  <div id=\"df-ef288608-3710-4781-a8f1-472c2a5e9e79\">\n",
              "    <div class=\"colab-df-container\">\n",
              "      <div>\n",
              "<style scoped>\n",
              "    .dataframe tbody tr th:only-of-type {\n",
              "        vertical-align: middle;\n",
              "    }\n",
              "\n",
              "    .dataframe tbody tr th {\n",
              "        vertical-align: top;\n",
              "    }\n",
              "\n",
              "    .dataframe thead th {\n",
              "        text-align: right;\n",
              "    }\n",
              "</style>\n",
              "<table border=\"1\" class=\"dataframe\">\n",
              "  <thead>\n",
              "    <tr style=\"text-align: right;\">\n",
              "      <th></th>\n",
              "      <th>Lat</th>\n",
              "      <th>Long</th>\n",
              "      <th>1/22/20</th>\n",
              "      <th>1/23/20</th>\n",
              "      <th>1/24/20</th>\n",
              "      <th>1/25/20</th>\n",
              "      <th>1/26/20</th>\n",
              "      <th>1/27/20</th>\n",
              "      <th>1/28/20</th>\n",
              "      <th>1/29/20</th>\n",
              "      <th>...</th>\n",
              "      <th>5/6/22</th>\n",
              "      <th>5/7/22</th>\n",
              "      <th>5/8/22</th>\n",
              "      <th>5/9/22</th>\n",
              "      <th>5/10/22</th>\n",
              "      <th>5/11/22</th>\n",
              "      <th>5/12/22</th>\n",
              "      <th>5/13/22</th>\n",
              "      <th>5/14/22</th>\n",
              "      <th>5/15/22</th>\n",
              "    </tr>\n",
              "    <tr>\n",
              "      <th>Country/Region</th>\n",
              "      <th></th>\n",
              "      <th></th>\n",
              "      <th></th>\n",
              "      <th></th>\n",
              "      <th></th>\n",
              "      <th></th>\n",
              "      <th></th>\n",
              "      <th></th>\n",
              "      <th></th>\n",
              "      <th></th>\n",
              "      <th></th>\n",
              "      <th></th>\n",
              "      <th></th>\n",
              "      <th></th>\n",
              "      <th></th>\n",
              "      <th></th>\n",
              "      <th></th>\n",
              "      <th></th>\n",
              "      <th></th>\n",
              "      <th></th>\n",
              "      <th></th>\n",
              "    </tr>\n",
              "  </thead>\n",
              "  <tbody>\n",
              "    <tr>\n",
              "      <th>Afghanistan</th>\n",
              "      <td>33.93911</td>\n",
              "      <td>67.709953</td>\n",
              "      <td>0</td>\n",
              "      <td>0</td>\n",
              "      <td>0</td>\n",
              "      <td>0</td>\n",
              "      <td>0</td>\n",
              "      <td>0</td>\n",
              "      <td>0</td>\n",
              "      <td>0</td>\n",
              "      <td>...</td>\n",
              "      <td>178919</td>\n",
              "      <td>178922</td>\n",
              "      <td>178981</td>\n",
              "      <td>179010</td>\n",
              "      <td>179017</td>\n",
              "      <td>179131</td>\n",
              "      <td>179169</td>\n",
              "      <td>179203</td>\n",
              "      <td>179242</td>\n",
              "      <td>179267</td>\n",
              "    </tr>\n",
              "    <tr>\n",
              "      <th>Albania</th>\n",
              "      <td>41.15330</td>\n",
              "      <td>20.168300</td>\n",
              "      <td>0</td>\n",
              "      <td>0</td>\n",
              "      <td>0</td>\n",
              "      <td>0</td>\n",
              "      <td>0</td>\n",
              "      <td>0</td>\n",
              "      <td>0</td>\n",
              "      <td>0</td>\n",
              "      <td>...</td>\n",
              "      <td>275310</td>\n",
              "      <td>275341</td>\n",
              "      <td>275366</td>\n",
              "      <td>275372</td>\n",
              "      <td>275416</td>\n",
              "      <td>275440</td>\n",
              "      <td>275485</td>\n",
              "      <td>275534</td>\n",
              "      <td>275574</td>\n",
              "      <td>275615</td>\n",
              "    </tr>\n",
              "    <tr>\n",
              "      <th>Algeria</th>\n",
              "      <td>28.03390</td>\n",
              "      <td>1.659600</td>\n",
              "      <td>0</td>\n",
              "      <td>0</td>\n",
              "      <td>0</td>\n",
              "      <td>0</td>\n",
              "      <td>0</td>\n",
              "      <td>0</td>\n",
              "      <td>0</td>\n",
              "      <td>0</td>\n",
              "      <td>...</td>\n",
              "      <td>265791</td>\n",
              "      <td>265794</td>\n",
              "      <td>265798</td>\n",
              "      <td>265800</td>\n",
              "      <td>265804</td>\n",
              "      <td>265806</td>\n",
              "      <td>265808</td>\n",
              "      <td>265814</td>\n",
              "      <td>265816</td>\n",
              "      <td>265818</td>\n",
              "    </tr>\n",
              "    <tr>\n",
              "      <th>Andorra</th>\n",
              "      <td>42.50630</td>\n",
              "      <td>1.521800</td>\n",
              "      <td>0</td>\n",
              "      <td>0</td>\n",
              "      <td>0</td>\n",
              "      <td>0</td>\n",
              "      <td>0</td>\n",
              "      <td>0</td>\n",
              "      <td>0</td>\n",
              "      <td>0</td>\n",
              "      <td>...</td>\n",
              "      <td>41717</td>\n",
              "      <td>41717</td>\n",
              "      <td>41717</td>\n",
              "      <td>41717</td>\n",
              "      <td>41717</td>\n",
              "      <td>41717</td>\n",
              "      <td>42156</td>\n",
              "      <td>42156</td>\n",
              "      <td>42156</td>\n",
              "      <td>42156</td>\n",
              "    </tr>\n",
              "    <tr>\n",
              "      <th>Angola</th>\n",
              "      <td>-11.20270</td>\n",
              "      <td>17.873900</td>\n",
              "      <td>0</td>\n",
              "      <td>0</td>\n",
              "      <td>0</td>\n",
              "      <td>0</td>\n",
              "      <td>0</td>\n",
              "      <td>0</td>\n",
              "      <td>0</td>\n",
              "      <td>0</td>\n",
              "      <td>...</td>\n",
              "      <td>99287</td>\n",
              "      <td>99287</td>\n",
              "      <td>99287</td>\n",
              "      <td>99287</td>\n",
              "      <td>99287</td>\n",
              "      <td>99287</td>\n",
              "      <td>99287</td>\n",
              "      <td>99287</td>\n",
              "      <td>99287</td>\n",
              "      <td>99287</td>\n",
              "    </tr>\n",
              "  </tbody>\n",
              "</table>\n",
              "<p>5 rows × 847 columns</p>\n",
              "</div>\n",
              "      <button class=\"colab-df-convert\" onclick=\"convertToInteractive('df-ef288608-3710-4781-a8f1-472c2a5e9e79')\"\n",
              "              title=\"Convert this dataframe to an interactive table.\"\n",
              "              style=\"display:none;\">\n",
              "        \n",
              "  <svg xmlns=\"http://www.w3.org/2000/svg\" height=\"24px\"viewBox=\"0 0 24 24\"\n",
              "       width=\"24px\">\n",
              "    <path d=\"M0 0h24v24H0V0z\" fill=\"none\"/>\n",
              "    <path d=\"M18.56 5.44l.94 2.06.94-2.06 2.06-.94-2.06-.94-.94-2.06-.94 2.06-2.06.94zm-11 1L8.5 8.5l.94-2.06 2.06-.94-2.06-.94L8.5 2.5l-.94 2.06-2.06.94zm10 10l.94 2.06.94-2.06 2.06-.94-2.06-.94-.94-2.06-.94 2.06-2.06.94z\"/><path d=\"M17.41 7.96l-1.37-1.37c-.4-.4-.92-.59-1.43-.59-.52 0-1.04.2-1.43.59L10.3 9.45l-7.72 7.72c-.78.78-.78 2.05 0 2.83L4 21.41c.39.39.9.59 1.41.59.51 0 1.02-.2 1.41-.59l7.78-7.78 2.81-2.81c.8-.78.8-2.07 0-2.86zM5.41 20L4 18.59l7.72-7.72 1.47 1.35L5.41 20z\"/>\n",
              "  </svg>\n",
              "      </button>\n",
              "      \n",
              "  <style>\n",
              "    .colab-df-container {\n",
              "      display:flex;\n",
              "      flex-wrap:wrap;\n",
              "      gap: 12px;\n",
              "    }\n",
              "\n",
              "    .colab-df-convert {\n",
              "      background-color: #E8F0FE;\n",
              "      border: none;\n",
              "      border-radius: 50%;\n",
              "      cursor: pointer;\n",
              "      display: none;\n",
              "      fill: #1967D2;\n",
              "      height: 32px;\n",
              "      padding: 0 0 0 0;\n",
              "      width: 32px;\n",
              "    }\n",
              "\n",
              "    .colab-df-convert:hover {\n",
              "      background-color: #E2EBFA;\n",
              "      box-shadow: 0px 1px 2px rgba(60, 64, 67, 0.3), 0px 1px 3px 1px rgba(60, 64, 67, 0.15);\n",
              "      fill: #174EA6;\n",
              "    }\n",
              "\n",
              "    [theme=dark] .colab-df-convert {\n",
              "      background-color: #3B4455;\n",
              "      fill: #D2E3FC;\n",
              "    }\n",
              "\n",
              "    [theme=dark] .colab-df-convert:hover {\n",
              "      background-color: #434B5C;\n",
              "      box-shadow: 0px 1px 3px 1px rgba(0, 0, 0, 0.15);\n",
              "      filter: drop-shadow(0px 1px 2px rgba(0, 0, 0, 0.3));\n",
              "      fill: #FFFFFF;\n",
              "    }\n",
              "  </style>\n",
              "\n",
              "      <script>\n",
              "        const buttonEl =\n",
              "          document.querySelector('#df-ef288608-3710-4781-a8f1-472c2a5e9e79 button.colab-df-convert');\n",
              "        buttonEl.style.display =\n",
              "          google.colab.kernel.accessAllowed ? 'block' : 'none';\n",
              "\n",
              "        async function convertToInteractive(key) {\n",
              "          const element = document.querySelector('#df-ef288608-3710-4781-a8f1-472c2a5e9e79');\n",
              "          const dataTable =\n",
              "            await google.colab.kernel.invokeFunction('convertToInteractive',\n",
              "                                                     [key], {});\n",
              "          if (!dataTable) return;\n",
              "\n",
              "          const docLinkHtml = 'Like what you see? Visit the ' +\n",
              "            '<a target=\"_blank\" href=https://colab.research.google.com/notebooks/data_table.ipynb>data table notebook</a>'\n",
              "            + ' to learn more about interactive tables.';\n",
              "          element.innerHTML = '';\n",
              "          dataTable['output_type'] = 'display_data';\n",
              "          await google.colab.output.renderOutput(dataTable, element);\n",
              "          const docLink = document.createElement('div');\n",
              "          docLink.innerHTML = docLinkHtml;\n",
              "          element.appendChild(docLink);\n",
              "        }\n",
              "      </script>\n",
              "    </div>\n",
              "  </div>\n",
              "  "
            ]
          },
          "metadata": {},
          "execution_count": 5
        }
      ]
    },
    {
      "cell_type": "code",
      "source": [
        "infected.drop(columns=['Lat','Long'],inplace=True)\n",
        "recovered.drop(columns=['Lat','Long'],inplace=True)\n",
        "deaths.drop(columns=['Lat','Long'],inplace=True)"
      ],
      "metadata": {
        "id": "iTH3dYRMDkz2"
      },
      "execution_count": 7,
      "outputs": []
    },
    {
      "cell_type": "code",
      "source": [
        "def infrecplot(countries):\n",
        "    for country in countries:\n",
        "        infected.loc[country][2:].plot()\n",
        "        recovered.loc[country][2:].plot()\n",
        "    plt.show()\n",
        "\n",
        "countries = ['India','US', 'Brazil', 'China']\n",
        "infrecplot(countries)"
      ],
      "metadata": {
        "colab": {
          "base_uri": "https://localhost:8080/",
          "height": 276
        },
        "id": "Ho-Uo3O2CxT-",
        "outputId": "41caff80-e284-4aed-cb58-4555e4f05d55"
      },
      "execution_count": 6,
      "outputs": [
        {
          "output_type": "display_data",
          "data": {
            "text/plain": [
              "<Figure size 432x288 with 1 Axes>"
            ],
            "image/png": "[encoded data removed]"
          },
          "metadata": {
            "needs_background": "light"
          }
        }
      ]
    },
    {
      "cell_type": "code",
      "source": [
        "def mkframe(country):\n",
        "    df = pd.DataFrame({ 'infected' : infected.loc[country] ,\n",
        "                        'recovered' : recovered.loc[country],\n",
        "                        'deaths' : deaths.loc[country]})\n",
        "    df.index = pd.to_datetime(df.index)\n",
        "    return df\n"
      ],
      "metadata": {
        "id": "OtF3mHS0DUau"
      },
      "execution_count": 8,
      "outputs": []
    },
    {
      "cell_type": "code",
      "source": [
        "df = []\n",
        "for country in countries:\n",
        "    df.append(mkframe(country))\n",
        "df"
      ],
      "metadata": {
        "colab": {
          "base_uri": "https://localhost:8080/"
        },
        "id": "cj9MBX9BD1J3",
        "outputId": "b42b1dd4-185a-487c-c1fc-04fcf935b574"
      },
      "execution_count": 9,
      "outputs": [
        {
          "output_type": "execute_result",
          "data": {
            "text/plain": [
              "[            infected  recovered  deaths\n",
              " 2020-01-22         0          0       0\n",
              " 2020-01-23         0          0       0\n",
              " 2020-01-24         0          0       0\n",
              " 2020-01-25         0          0       0\n",
              " 2020-01-26         0          0       0\n",
              " ...              ...        ...     ...\n",
              " 2022-05-11  43113413          0  524181\n",
              " 2022-05-12  43116254          0  524190\n",
              " 2022-05-13  43119112          0  524201\n",
              " 2022-05-14  43121599          0  524214\n",
              " 2022-05-15  43123801          0  524241\n",
              " \n",
              " [845 rows x 3 columns],             infected  recovered  deaths\n",
              " 2020-01-22         1          0       0\n",
              " 2020-01-23         1          0       0\n",
              " 2020-01-24         2          0       0\n",
              " 2020-01-25         2          0       0\n",
              " 2020-01-26         5          0       0\n",
              " ...              ...        ...     ...\n",
              " 2022-05-11  82223174          0  998997\n",
              " 2022-05-12  82325687          0  999125\n",
              " 2022-05-13  82421624          0  999518\n",
              " 2022-05-14  82437716          0  999570\n",
              " 2022-05-15  82468606          0  999602\n",
              " \n",
              " [845 rows x 3 columns],             infected  recovered  deaths\n",
              " 2020-01-22         0          0       0\n",
              " 2020-01-23         0          0       0\n",
              " 2020-01-24         0          0       0\n",
              " 2020-01-25         0          0       0\n",
              " 2020-01-26         0          0       0\n",
              " ...              ...        ...     ...\n",
              " 2022-05-11  30617786          0  664750\n",
              " 2022-05-12  30639130          0  664874\n",
              " 2022-05-13  30664739          0  665012\n",
              " 2022-05-14  30682094          0  665104\n",
              " 2022-05-15  30688390          0  665150\n",
              " \n",
              " [845 rows x 3 columns],             infected  recovered  deaths\n",
              " 2020-01-22       548         28      17\n",
              " 2020-01-23       643         30      18\n",
              " 2020-01-24       920         36      26\n",
              " 2020-01-25      1406         39      42\n",
              " 2020-01-26      2075         49      56\n",
              " ...              ...        ...     ...\n",
              " 2022-05-11   2330401          0   14558\n",
              " 2022-05-12   2338157          0   14561\n",
              " 2022-05-13   2345499          0   14565\n",
              " 2022-05-14   2352227          0   14569\n",
              " 2022-05-15   2358657          0   14574\n",
              " \n",
              " [845 rows x 3 columns]]"
            ]
          },
          "metadata": {},
          "execution_count": 9
        }
      ]
    },
    {
      "cell_type": "code",
      "source": [
        "for d in df: d.plot()\n",
        "plt.show"
      ],
      "metadata": {
        "colab": {
          "base_uri": "https://localhost:8080/",
          "height": 1000
        },
        "id": "dfcCaURpEOqO",
        "outputId": "9999a094-935b-43f7-fc9c-07daa0bbd82f"
      },
      "execution_count": 11,
      "outputs": [
        {
          "output_type": "execute_result",
          "data": {
            "text/plain": [
              "<function matplotlib.pyplot.show>"
            ]
          },
          "metadata": {},
          "execution_count": 11
        },
        {
          "output_type": "display_data",
          "data": {
            "text/plain": [
              "<Figure size 432x288 with 1 Axes>"
            ],
            "image/png": "[encoded data removed]"
          },
          "metadata": {
            "needs_background": "light"
          }
        },
        {
          "output_type": "display_data",
          "data": {
            "text/plain": [
              "<Figure size 432x288 with 1 Axes>"
            ],
            "image/png": "[encoded data removed]"
          },
          "metadata": {
            "needs_background": "light"
          }
        },
        {
          "output_type": "display_data",
          "data": {
            "text/plain": [
              "<Figure size 432x288 with 1 Axes>"
            ],
            "image/png": "[encoded data removed]"
          },
          "metadata": {
            "needs_background": "light"
          }
        },
        {
          "output_type": "display_data",
          "data": {
            "text/plain": [
              "<Figure size 432x288 with 1 Axes>"
            ],
            "image/png": "[encoded data removed]"
          },
          "metadata": {
            "needs_background": "light"
          }
        }
      ]
    },
    {
      "cell_type": "code",
      "source": [
        "def ninfected(df):\n",
        "    df['ninfected'] = df['infected'].diff()\n",
        "    df['ninfected'].plot()\n",
        "\n",
        "for d in df: ninfected(d)\n",
        "plt.show()"
      ],
      "metadata": {
        "colab": {
          "base_uri": "https://localhost:8080/",
          "height": 288
        },
        "id": "19bX8isPEatv",
        "outputId": "be5e1e73-b8ef-4402-8446-00f629586280"
      },
      "execution_count": 15,
      "outputs": [
        {
          "output_type": "display_data",
          "data": {
            "text/plain": [
              "<Figure size 432x288 with 1 Axes>"
            ],
            "image/png": "[encoded data removed]"
          },
          "metadata": {
            "needs_background": "light"
          }
        }
      ]
    },
    {
      "cell_type": "code",
      "source": [
        "def addninf(df):\n",
        "    df['ninfav'] = df['ninfected'].rolling(window=7).mean()\n",
        "    df['ninfav'].plot()\n",
        "\n",
        "for d in df: addninf(d)\n",
        "plt.show()"
      ],
      "metadata": {
        "colab": {
          "base_uri": "https://localhost:8080/",
          "height": 277
        },
        "id": "zPDfLNvrFJY-",
        "outputId": "a95c07d4-b42a-4bfe-8fa5-57bb6622b18b"
      },
      "execution_count": 16,
      "outputs": [
        {
          "output_type": "display_data",
          "data": {
            "text/plain": [
              "<Figure size 432x288 with 1 Axes>"
            ],
            "image/png": "[encoded data removed]"
          },
          "metadata": {
            "needs_background": "light"
          }
        }
      ]
    },
    {
      "cell_type": "code",
      "source": [
        "def rt(df):\n",
        "    df['Rt'] = df['ninfected'].rolling(8).apply(lambda x: x[4:].sum()/x[:4].sum())\n",
        "    df['Rt'].plot()\n",
        "\n",
        "for d in df: rt(d)\n",
        "plt.show()"
      ],
      "metadata": {
        "colab": {
          "base_uri": "https://localhost:8080/",
          "height": 277
        },
        "id": "k5Dc-h86Ffnc",
        "outputId": "2558536a-20f9-4004-b338-dd91200ab567"
      },
      "execution_count": 17,
      "outputs": [
        {
          "output_type": "display_data",
          "data": {
            "text/plain": [
              "<Figure size 432x288 with 1 Axes>"
            ],
            "image/png": "[encoded data removed]"
          },
          "metadata": {
            "needs_background": "light"
          }
        }
      ]
    }
  ]
}
